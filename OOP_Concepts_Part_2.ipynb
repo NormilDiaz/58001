{
  "nbformat": 4,
  "nbformat_minor": 0,
  "metadata": {
    "colab": {
      "provenance": [],
      "authorship_tag": "ABX9TyOBZL0e3PKklCf0X1d22oaB",
      "include_colab_link": true
    },
    "kernelspec": {
      "name": "python3",
      "display_name": "Python 3"
    },
    "language_info": {
      "name": "python"
    }
  },
  "cells": [
    {
      "cell_type": "markdown",
      "metadata": {
        "id": "view-in-github",
        "colab_type": "text"
      },
      "source": [
        "<a href=\"https://colab.research.google.com/github/NormilDiaz/OOP-58001/blob/main/OOP_Concepts_Part_2.ipynb\" target=\"_parent\"><img src=\"https://colab.research.google.com/assets/colab-badge.svg\" alt=\"Open In Colab\"/></a>"
      ]
    },
    {
      "cell_type": "code",
      "source": [
        "class foo:\n",
        "  def __init__(self, a, b):\n",
        "    self.a = a\n",
        "    self.b = b\n",
        "  def add(self):\n",
        "    return self.a + self.b\n",
        "\n",
        "foo_object = foo(3,4)\n",
        "foo_object.add()"
      ],
      "metadata": {
        "id": "LObJZGb3Zumg"
      },
      "execution_count": null,
      "outputs": []
    },
    {
      "cell_type": "code",
      "source": [
        "class foo:\n",
        "  def __init__(self, a, b):\n",
        "    self.__a = a\n",
        "    self.__b = b\n",
        "  def add(self):\n",
        "    return self.__a + self.__b\n",
        "\n",
        "foo_object = foo(3,4)\n",
        "foo_object.add()\n",
        "foo_object.a = 5\n",
        "foo_object.add()\n"
      ],
      "metadata": {
        "id": "BY25ZlUpaYtn"
      },
      "execution_count": null,
      "outputs": []
    },
    {
      "cell_type": "code",
      "execution_count": null,
      "metadata": {
        "id": "j8tw7tM5WUfv"
      },
      "outputs": [],
      "source": [
        "class Birds:\n",
        "  def __init__(self, bird_name):\n",
        "    self.bird_name = bird_name\n",
        "    \n",
        "  def flying_birds(self):\n",
        "    print(f'{self.bird_name} flies above clouds')\n",
        "    \n",
        "  def non_flying_birds(self):\n",
        "    print(f'{self.bird_name} is the national bird of the Philippines')\n",
        "\n",
        "vulture = Birds('Griffon Vulture')\n",
        "crane = Birds('Common Crane')\n",
        "emu = Birds('Emu Birds')\n",
        "\n",
        "vulture.flying_birds()\n",
        "crane.flying_birds()\n",
        "emu.non_flying_birds()"
      ]
    },
    {
      "cell_type": "markdown",
      "source": [
        "Inheritance"
      ],
      "metadata": {
        "id": "NTHnutqbeMuW"
      }
    },
    {
      "cell_type": "code",
      "source": [
        "class Person:\n",
        "  def __init__(self, name, bday):\n",
        "    self.name = name\n",
        "    self.bday = bday\n",
        "  \n",
        "  def display(self):\n",
        "    print(f'My name is', self.name)\n",
        "    print(f'My birthday is', self.bday)\n",
        "\n",
        "student = Person('Normil', 'Febraury 7, 2004')\n",
        "student.display()"
      ],
      "metadata": {
        "id": "zNg3fUgAeOOW"
      },
      "execution_count": null,
      "outputs": []
    },
    {
      "cell_type": "markdown",
      "source": [
        "Activity"
      ],
      "metadata": {
        "id": "4KBzCDN3g52C"
      }
    },
    {
      "cell_type": "code",
      "source": [
        "class Shapes:\n",
        "\n",
        "  def __init__(self, square, rectangle, kite, circle, triangle):\n",
        "    \n",
        "    self.__square =  square\n",
        "    self.__rectangle =  rectangle\n",
        "    self.__kite =  kite\n",
        "    self.__circle =  circle\n",
        "    self.__triangle =  triangle\n",
        "\n",
        "  def display(self):\n",
        "\n",
        "    print(f'{self.__square} has four sides')\n",
        "    print(f'{self.__rectangle} has four sides')\n",
        "    print(f'{self.__kite} has four sides')\n",
        "    print(f'{self.__circle} has no sides')\n",
        "    print(f'{self.__triangle} has three sides')\n",
        "\n",
        "shapes = Shapes('Square', 'Rectangle', 'Kite', 'Circle', 'Triangle')\n",
        "shapes.display()\n",
        "\n"
      ],
      "metadata": {
        "id": "4kv6Vzp5otUP"
      },
      "execution_count": null,
      "outputs": []
    }
  ]
}