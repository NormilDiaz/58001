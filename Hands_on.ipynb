{
  "nbformat": 4,
  "nbformat_minor": 0,
  "metadata": {
    "colab": {
      "provenance": [],
      "authorship_tag": "ABX9TyPvUdz5E5wuJKFpe8sqOEZm",
      "include_colab_link": true
    },
    "kernelspec": {
      "name": "python3",
      "display_name": "Python 3"
    },
    "language_info": {
      "name": "python"
    }
  },
  "cells": [
    {
      "cell_type": "markdown",
      "metadata": {
        "id": "view-in-github",
        "colab_type": "text"
      },
      "source": [
        "<a href=\"https://colab.research.google.com/github/NormilDiaz/OOP-58001/blob/main/Hands_on.ipynb\" target=\"_parent\"><img src=\"https://colab.research.google.com/assets/colab-badge.svg\" alt=\"Open In Colab\"/></a>"
      ]
    },
    {
      "cell_type": "markdown",
      "source": [
        "Polymorphism"
      ],
      "metadata": {
        "id": "kLHw47CtZj9B"
      }
    },
    {
      "cell_type": "code",
      "execution_count": 29,
      "metadata": {
        "id": "Mo1pQ033ZeIr"
      },
      "outputs": [],
      "source": [
        "class RegularPolygon:\n",
        "  def __init__(self, side):\n",
        "    self.side = side\n",
        "class Square(RegularPolygon):\n",
        "  def area(self):\n",
        "    return self.side*self.side\n",
        "class EquilateralTriangle(RegularPolygon):\n",
        "  def area(self):\n",
        "    return self.side*self.side*0.43\n"
      ]
    },
    {
      "cell_type": "markdown",
      "source": [
        "Activity "
      ],
      "metadata": {
        "id": "9uUbZMF9bIGA"
      }
    },
    {
      "cell_type": "code",
      "source": [
        "class Person:\n",
        "\n",
        "    def __init__(self, std1, std2, std3, pre, mid, fin):\n",
        "        self.__std1 = std1\n",
        "        self.__std2 = std2\n",
        "        self.__std3 = std3\n",
        "        self.__pre = pre\n",
        "        self.__mid = mid\n",
        "        self.__fin = fin\n",
        "\n",
        "    def Grade(self):\n",
        "        avg_pre = self.__pre\n",
        "        avg_mid = self.__mid\n",
        "        avg_fin = self.__fin\n",
        "        return avg_pre, avg_mid, avg_fin\n",
        "\n",
        "\n",
        "person1 = Person(\"Student 1\", \" \", \" \", 78, 70, 74)\n",
        "person2 = Person(\"Student 2\", \" \", \" \", 91, 87, 79)\n",
        "person3 = Person(\"Student 3\", \" \", \" \", 78, 93, 80)\n",
        "\n",
        "\n",
        "print(f\"{person1._Person__std1} Prelim Grade = {avg_pre1}, Midterm Grade = {avg_mid1}, Final Grade = {avg_fin1}\")\n",
        "print(f\"{person2._Person__std1} Prelim Grade = {avg_pre2}, Midterm Grade = {avg_mid2}, Final Grade = {avg_fin2}\")\n",
        "print(f\"{person3._Person__std1} Prelim Grade = {avg_pre3}, Midterm Grade = {avg_mid3}, Final Grade = {avg_fin3}\")\n",
        "\n",
        "\n",
        "avg_pre1, avg_mid1, avg_fin1 = person1.Grade()\n",
        "avg_pre2, avg_mid2, avg_fin2 = person2.Grade()\n",
        "avg_pre3, avg_mid3, avg_fin3 = person3.Grade()\n",
        "\n"
      ],
      "metadata": {
        "id": "DtFvMZrDhWJZ"
      },
      "execution_count": null,
      "outputs": []
    }
  ]
}