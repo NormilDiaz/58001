{
  "nbformat": 4,
  "nbformat_minor": 0,
  "metadata": {
    "colab": {
      "provenance": [],
      "authorship_tag": "ABX9TyNLrYpejNHF1lhfZp6j516o",
      "include_colab_link": true
    },
    "kernelspec": {
      "name": "python3",
      "display_name": "Python 3"
    },
    "language_info": {
      "name": "python"
    }
  },
  "cells": [
    {
      "cell_type": "markdown",
      "metadata": {
        "id": "view-in-github",
        "colab_type": "text"
      },
      "source": [
        "<a href=\"https://colab.research.google.com/github/NormilDiaz/OOP-58001/blob/main/Concepts_ijn_oop.ipynb\" target=\"_parent\"><img src=\"https://colab.research.google.com/assets/colab-badge.svg\" alt=\"Open In Colab\"/></a>"
      ]
    },
    {
      "cell_type": "markdown",
      "source": [
        "Class constructor"
      ],
      "metadata": {
        "id": "6LB6vsN8PJSM"
      }
    },
    {
      "cell_type": "code",
      "execution_count": 1,
      "metadata": {
        "id": "kRn4rl-HPDEd"
      },
      "outputs": [],
      "source": [
        "class Car:\n",
        "  pass"
      ]
    },
    {
      "cell_type": "code",
      "source": [
        "class MyNumber:\n",
        "  x = 5\n",
        "\n",
        "num1 = MyNumber()\n",
        "print(num1.x)"
      ],
      "metadata": {
        "id": "8EJjWMUcPaYX"
      },
      "execution_count": null,
      "outputs": []
    },
    {
      "cell_type": "code",
      "source": [
        "class Person:\n",
        "  def __init__(self,name,age):\n",
        "    self.name = name\n",
        "    self.age = age\n",
        "\n",
        "  def myFunction(self):\n",
        "    print('Hello my name is', self.name)\n",
        "person = Person('Normil', 19)\n",
        "person.myFunction()"
      ],
      "metadata": {
        "id": "EPFRkGqYP7M_"
      },
      "execution_count": null,
      "outputs": []
    },
    {
      "cell_type": "markdown",
      "source": [
        "Modified object properties"
      ],
      "metadata": {
        "id": "YtUitnrTRrs6"
      }
    },
    {
      "cell_type": "code",
      "source": [
        "person.name = 'Normil'\n",
        "print(person.name)\n",
        "person.myFunction()"
      ],
      "metadata": {
        "id": "f6Xcf4uHRwx0"
      },
      "execution_count": null,
      "outputs": []
    },
    {
      "cell_type": "markdown",
      "source": [
        "Deletion of object properties\n"
      ],
      "metadata": {
        "id": "qmOPmE_kSFpG"
      }
    },
    {
      "cell_type": "code",
      "source": [
        "del person.age\n",
        "person.myFunction()\n",
        "print(person.name)"
      ],
      "metadata": {
        "id": "hyHMVLw1SiWC"
      },
      "execution_count": null,
      "outputs": []
    },
    {
      "cell_type": "markdown",
      "source": [
        "Compute for the area of square"
      ],
      "metadata": {
        "id": "luHo2x4QTDCd"
      }
    },
    {
      "cell_type": "code",
      "source": [
        "class Shape:\n",
        "  def __init__(self,side):\n",
        "    self.side = side\n",
        "\n",
        "  def area(self):\n",
        "    return self.side * self. side\n",
        "  def display(self):\n",
        "    print('The area of the square is', self.area())\n",
        "\n",
        "square = Shape(4)\n",
        "square.display()"
      ],
      "metadata": {
        "id": "RMAhIXEjTFNV"
      },
      "execution_count": null,
      "outputs": []
    },
    {
      "cell_type": "markdown",
      "source": [
        "Activity:\n",
        "\n",
        "\n",
        "Create a Python program with the following:\n",
        "\n",
        "Student as class name\n",
        "\n",
        "Fullname, Student Number, and School as attribute names\n",
        "\n",
        "Construct a method to display the values of attributes\n",
        "\n",
        "Use student as object name"
      ],
      "metadata": {
        "id": "cq3FjmG1U2TH"
      }
    },
    {
      "cell_type": "code",
      "source": [
        "class Student:\n",
        "  def __init__(self,Fname,Snum,School ):\n",
        "    self.Fname = Fname\n",
        "    self.Snum = Snum\n",
        "    self.School = School\n",
        "\n",
        "  def myFunction(self):\n",
        "    print('Hello my name is', self.Fname, 'my student number is', self.Snum, ',and the school I ennrolled on is at', self.School)\n",
        "student = Student('Normil G Diaz,', 202211871, 'Adamson University')\n",
        "student.myFunction()"
      ],
      "metadata": {
        "colab": {
          "base_uri": "https://localhost:8080/"
        },
        "id": "_oksTQ7iU3Y_",
        "outputId": "5f90cf2b-fbfe-4a06-918c-db1ab2219499"
      },
      "execution_count": 31,
      "outputs": [
        {
          "output_type": "stream",
          "name": "stdout",
          "text": [
            "Hello my name is Normil G Diaz, my student number is 202211871 ,and the school I ennrolled on is at Adamson University\n"
          ]
        }
      ]
    }
  ]
}