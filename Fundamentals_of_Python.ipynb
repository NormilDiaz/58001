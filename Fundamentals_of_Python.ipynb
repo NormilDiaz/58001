{
  "nbformat": 4,
  "nbformat_minor": 0,
  "metadata": {
    "colab": {
      "provenance": [],
      "authorship_tag": "ABX9TyNZEzge/GnYR2WFXDH1hxpu",
      "include_colab_link": true
    },
    "kernelspec": {
      "name": "python3",
      "display_name": "Python 3"
    },
    "language_info": {
      "name": "python"
    }
  },
  "cells": [
    {
      "cell_type": "markdown",
      "metadata": {
        "id": "view-in-github",
        "colab_type": "text"
      },
      "source": [
        "<a href=\"https://colab.research.google.com/github/NormilDiaz/OOP-58001/blob/main/Fundamentals_of_Python.ipynb\" target=\"_parent\"><img src=\"https://colab.research.google.com/assets/colab-badge.svg\" alt=\"Open In Colab\"/></a>"
      ]
    },
    {
      "cell_type": "markdown",
      "source": [
        "Indentation"
      ],
      "metadata": {
        "id": "hKsoMuMFRODo"
      }
    },
    {
      "cell_type": "code",
      "source": [
        "if 5>2:\n",
        "  print('five is greater than 2')"
      ],
      "metadata": {
        "colab": {
          "base_uri": "https://localhost:8080/"
        },
        "id": "xtNBz1J8RPyP",
        "outputId": "8640a028-0c7f-4bf6-d6eb-a1c5d87b04dd"
      },
      "execution_count": 5,
      "outputs": [
        {
          "output_type": "stream",
          "name": "stdout",
          "text": [
            "five is greater than 2\n"
          ]
        }
      ]
    },
    {
      "cell_type": "markdown",
      "source": [
        "Python Comment"
      ],
      "metadata": {
        "id": "LfG9K5KzSbag"
      }
    },
    {
      "cell_type": "code",
      "source": [
        "# This is a comment\n",
        "print('Hello world')"
      ],
      "metadata": {
        "colab": {
          "base_uri": "https://localhost:8080/"
        },
        "id": "Duixe2XaSWNh",
        "outputId": "4fdfd3a2-e8e0-4cc5-de15-f2e7112c0153"
      },
      "execution_count": 10,
      "outputs": [
        {
          "output_type": "stream",
          "name": "stdout",
          "text": [
            "Hello world\n"
          ]
        }
      ]
    },
    {
      "cell_type": "markdown",
      "source": [
        "Python Variables (Case sensitive - Python)"
      ],
      "metadata": {
        "id": "ReqdojC4StoI"
      }
    },
    {
      "cell_type": "code",
      "source": [
        "# Single variable with multiple values\n",
        "array = [1,2,3,4,5,6,7,8,9,10]\n",
        "print (array) # or print (array[0]) - if specific array\n",
        "# multiple values with Single variable\n",
        "a = b = c = 'Normil'\n",
        "print (a)\n",
        "print (b)\n",
        "print (c)"
      ],
      "metadata": {
        "colab": {
          "base_uri": "https://localhost:8080/"
        },
        "id": "QHFyLWjpSyj3",
        "outputId": "545e5981-c8ce-469e-bd87-9c54142e7ed1"
      },
      "execution_count": 13,
      "outputs": [
        {
          "output_type": "stream",
          "name": "stdout",
          "text": [
            "[1, 2, 3, 4, 5, 6, 7, 8, 9, 10]\n",
            "Normil\n",
            "Normil\n",
            "Normil\n"
          ]
        }
      ]
    },
    {
      "cell_type": "markdown",
      "source": [
        "Casting Python Code"
      ],
      "metadata": {
        "id": "CFEWeWW0UvRH"
      }
    },
    {
      "cell_type": "code",
      "source": [
        "n = int(4)\n",
        "print (n)"
      ],
      "metadata": {
        "id": "bodGtyYwU1ee"
      },
      "execution_count": null,
      "outputs": []
    },
    {
      "cell_type": "markdown",
      "source": [
        "Python Type Function "
      ],
      "metadata": {
        "id": "vgX8Ngt6VEcW"
      }
    },
    {
      "cell_type": "code",
      "source": [
        "c = 'Normil'\n",
        "d = 5.6\n",
        "print (type(c))\n",
        "print (type(d))"
      ],
      "metadata": {
        "colab": {
          "base_uri": "https://localhost:8080/"
        },
        "id": "ss_AriWBVK5f",
        "outputId": "95325d71-88fd-4650-a117-686656f6bc8c"
      },
      "execution_count": 14,
      "outputs": [
        {
          "output_type": "stream",
          "name": "stdout",
          "text": [
            "<class 'str'>\n",
            "<class 'float'>\n"
          ]
        }
      ]
    }
  ]
}