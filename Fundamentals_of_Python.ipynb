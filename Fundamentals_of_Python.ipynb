{
  "nbformat": 4,
  "nbformat_minor": 0,
  "metadata": {
    "colab": {
      "provenance": [],
      "authorship_tag": "ABX9TyN0c2DDZqWnUqwJaYuG383b",
      "include_colab_link": true
    },
    "kernelspec": {
      "name": "python3",
      "display_name": "Python 3"
    },
    "language_info": {
      "name": "python"
    }
  },
  "cells": [
    {
      "cell_type": "markdown",
      "metadata": {
        "id": "view-in-github",
        "colab_type": "text"
      },
      "source": [
        "<a href=\"https://colab.research.google.com/github/NormilDiaz/OOP-58001/blob/main/Fundamentals_of_Python.ipynb\" target=\"_parent\"><img src=\"https://colab.research.google.com/assets/colab-badge.svg\" alt=\"Open In Colab\"/></a>"
      ]
    },
    {
      "cell_type": "markdown",
      "source": [
        "Indentation"
      ],
      "metadata": {
        "id": "hKsoMuMFRODo"
      }
    },
    {
      "cell_type": "code",
      "source": [
        "if 5>2:\n",
        "  print('five is greater than 2')"
      ],
      "metadata": {
        "id": "xtNBz1J8RPyP"
      },
      "execution_count": null,
      "outputs": []
    },
    {
      "cell_type": "markdown",
      "source": [
        "Python Comment"
      ],
      "metadata": {
        "id": "LfG9K5KzSbag"
      }
    },
    {
      "cell_type": "code",
      "source": [
        "# This is a comment\n",
        "print('Hello world')"
      ],
      "metadata": {
        "id": "Duixe2XaSWNh"
      },
      "execution_count": null,
      "outputs": []
    },
    {
      "cell_type": "markdown",
      "source": [
        "Python Variables (Case sensitive - Python)"
      ],
      "metadata": {
        "id": "ReqdojC4StoI"
      }
    },
    {
      "cell_type": "code",
      "source": [
        "# Single variable with multiple values\n",
        "array = [1,2,3,4,5,6,7,8,9,10]\n",
        "print (array) # or print (array[0]) - if specific array\n",
        "# multiple values with Single variable\n",
        "a = b = c = 'Normil'\n",
        "print (a)\n",
        "print (b)\n",
        "print (c)"
      ],
      "metadata": {
        "id": "QHFyLWjpSyj3"
      },
      "execution_count": null,
      "outputs": []
    },
    {
      "cell_type": "markdown",
      "source": [
        "Casting Python Code"
      ],
      "metadata": {
        "id": "CFEWeWW0UvRH"
      }
    },
    {
      "cell_type": "code",
      "source": [
        "n = int(4)\n",
        "print (n)"
      ],
      "metadata": {
        "id": "bodGtyYwU1ee"
      },
      "execution_count": null,
      "outputs": []
    },
    {
      "cell_type": "markdown",
      "source": [
        "Python Type Function "
      ],
      "metadata": {
        "id": "vgX8Ngt6VEcW"
      }
    },
    {
      "cell_type": "code",
      "source": [
        "c = 'Normil'\n",
        "d = 5.6\n",
        "print (type(c))\n",
        "print (type(d))"
      ],
      "metadata": {
        "id": "ss_AriWBVK5f"
      },
      "execution_count": null,
      "outputs": []
    },
    {
      "cell_type": "markdown",
      "source": [
        "String Variables"
      ],
      "metadata": {
        "id": "_-WF3xYCBBG5"
      }
    },
    {
      "cell_type": "code",
      "source": [
        "y = \"John\"\n",
        "y = 'Jhon'"
      ],
      "metadata": {
        "id": "J3_-N5rFBPqP"
      },
      "execution_count": 1,
      "outputs": []
    },
    {
      "cell_type": "markdown",
      "source": [
        "Case Sensitivity"
      ],
      "metadata": {
        "id": "6rri4gs9BYNV"
      }
    },
    {
      "cell_type": "code",
      "source": [
        "a = 4\n",
        "A = \"Normil\"\n",
        "# A will not overwrite a"
      ],
      "metadata": {
        "id": "geLuYYXMBcRm"
      },
      "execution_count": null,
      "outputs": []
    },
    {
      "cell_type": "markdown",
      "source": [
        "Multiple Variables "
      ],
      "metadata": {
        "id": "j7ukzFsTBmzk"
      }
    },
    {
      "cell_type": "code",
      "source": [
        "x,y,z = \"one\",\"two\",\"three\"\n",
        "print(x)\n",
        "print(y)\n",
        "print(z)\n",
        "\n",
        "# One value to multiple variables\n",
        "x = y = z = \"four\"\n",
        "print(x)\n",
        "print(y)\n",
        "print(z)\n"
      ],
      "metadata": {
        "id": "OZrkDRTUBo2N"
      },
      "execution_count": null,
      "outputs": []
    },
    {
      "cell_type": "markdown",
      "source": [
        "Output Variables"
      ],
      "metadata": {
        "id": "0m9-qOTWCtXe"
      }
    },
    {
      "cell_type": "code",
      "source": [
        "x= 'enjoying'\n",
        "print('Python programming is ' + x)\n",
        "\n",
        "# Other way is \n",
        "x = 'Python is'\n",
        "y = 'enjoying'\n",
        "z = x + y\n",
        "print (z)"
      ],
      "metadata": {
        "id": "HVSjmC-6CwTF"
      },
      "execution_count": null,
      "outputs": []
    },
    {
      "cell_type": "markdown",
      "source": [
        "Arithmetic Operations"
      ],
      "metadata": {
        "id": "aSxqbUdZDMSW"
      }
    },
    {
      "cell_type": "code",
      "source": [
        "x = 5\n",
        "y = 3\n",
        "print (x + y)\n",
        "\n",
        "x = 5 \n",
        "y = 3\n",
        "sum = x + y\n",
        "sum"
      ],
      "metadata": {
        "id": "HN3aLoa1DO_W"
      },
      "execution_count": null,
      "outputs": []
    },
    {
      "cell_type": "markdown",
      "source": [
        "Assignment Operators"
      ],
      "metadata": {
        "id": "1neOVPofDcUD"
      }
    },
    {
      "cell_type": "code",
      "source": [
        "a, b, c = 0, -1, 6\n",
        "c %= 3\n",
        "c"
      ],
      "metadata": {
        "id": "6sBkU9nmDjz1"
      },
      "execution_count": null,
      "outputs": []
    },
    {
      "cell_type": "markdown",
      "source": [
        "Comparison Operators and Logical Operators"
      ],
      "metadata": {
        "id": "bt-HqPxqDsyG"
      }
    },
    {
      "cell_type": "code",
      "source": [
        "a, b, c = 0, -1, 6\n",
        "a > b and c > b\n",
        "True"
      ],
      "metadata": {
        "id": "oUclnx64DyiN"
      },
      "execution_count": null,
      "outputs": []
    },
    {
      "cell_type": "markdown",
      "source": [
        "Identity Operators"
      ],
      "metadata": {
        "id": "9XYdaHy1EAJ1"
      }
    },
    {
      "cell_type": "code",
      "source": [
        "a, b, c = 0, -1, 5\n",
        "a is c\n",
        "False"
      ],
      "metadata": {
        "id": "rWAjeM7_EDVR"
      },
      "execution_count": null,
      "outputs": []
    },
    {
      "cell_type": "markdown",
      "source": [
        "Bitwise Operators"
      ],
      "metadata": {
        "id": "IZIxZPgPEIFM"
      }
    },
    {
      "cell_type": "code",
      "source": [],
      "metadata": {
        "id": "wqocRgRPEtll"
      },
      "execution_count": null,
      "outputs": []
    }
  ]
}