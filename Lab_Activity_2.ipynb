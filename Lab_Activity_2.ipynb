{
  "nbformat": 4,
  "nbformat_minor": 0,
  "metadata": {
    "colab": {
      "provenance": [],
      "authorship_tag": "ABX9TyNaZP0KxPgcBrMPhqjyHE2F",
      "include_colab_link": true
    },
    "kernelspec": {
      "name": "python3",
      "display_name": "Python 3"
    },
    "language_info": {
      "name": "python"
    }
  },
  "cells": [
    {
      "cell_type": "markdown",
      "metadata": {
        "id": "view-in-github",
        "colab_type": "text"
      },
      "source": [
        "<a href=\"https://colab.research.google.com/github/NormilDiaz/OOP-58001/blob/main/Lab_Activity_2.ipynb\" target=\"_parent\"><img src=\"https://colab.research.google.com/assets/colab-badge.svg\" alt=\"Open In Colab\"/></a>"
      ]
    },
    {
      "cell_type": "code",
      "source": [
        "class Circle:\n",
        "  def __init__(self,num): \n",
        "\n",
        "    self.num = float(input(\"Enter the desired radius: \"))\n",
        "\n",
        "  def area(self):\n",
        "     return 3.141592653589793 * self.num * self.num\n",
        "  \n",
        "  def perimeter(self):\n",
        "     return 2 * 3.141592653589793 * self.num\n",
        "\n",
        "  def Display(self):\n",
        "    print('The Area of the Circle is', self.area(), 'and the Perimeter of the Circle is', + self.perimeter())\n",
        "\n",
        "shape = Circle('num')\n",
        "shape.Display()"
      ],
      "metadata": {
        "id": "bhKKwAj4--HT"
      },
      "execution_count": null,
      "outputs": []
    }
  ]
}