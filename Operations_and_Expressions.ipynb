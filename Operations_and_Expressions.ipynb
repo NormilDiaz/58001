{
  "nbformat": 4,
  "nbformat_minor": 0,
  "metadata": {
    "colab": {
      "provenance": [],
      "authorship_tag": "ABX9TyMNMAB/gz0U2mNipHYyj0Ad",
      "include_colab_link": true
    },
    "kernelspec": {
      "name": "python3",
      "display_name": "Python 3"
    },
    "language_info": {
      "name": "python"
    }
  },
  "cells": [
    {
      "cell_type": "markdown",
      "metadata": {
        "id": "view-in-github",
        "colab_type": "text"
      },
      "source": [
        "<a href=\"https://colab.research.google.com/github/NormilDiaz/OOP-58001/blob/main/Operations_and_Expressions.ipynb\" target=\"_parent\"><img src=\"https://colab.research.google.com/assets/colab-badge.svg\" alt=\"Open In Colab\"/></a>"
      ]
    },
    {
      "cell_type": "markdown",
      "source": [
        "Boolean Operators"
      ],
      "metadata": {
        "id": "WpeTJcTiTS9Q"
      }
    },
    {
      "cell_type": "code",
      "execution_count": null,
      "metadata": {
        "id": "F9xng6qVS6-3"
      },
      "outputs": [],
      "source": [
        "print(10>9)\n",
        "\n",
        "print(10 == 9)\n",
        "\n",
        "print(10<9)"
      ]
    },
    {
      "cell_type": "markdown",
      "source": [
        "Bool Function"
      ],
      "metadata": {
        "id": "r-ix0Ea6UjWR"
      }
    },
    {
      "cell_type": "code",
      "source": [
        "print(bool('Normil'))\n",
        "\n",
        "print(bool(1))\n",
        "\n",
        "print(bool(0))\n",
        "\n",
        "print(bool(None))\n",
        "\n",
        "print(bool(True))\n",
        "\n"
      ],
      "metadata": {
        "id": "B_Fn807sUlNH"
      },
      "execution_count": null,
      "outputs": []
    },
    {
      "cell_type": "markdown",
      "source": [
        "Function"
      ],
      "metadata": {
        "id": "JmxVwiynVRdZ"
      }
    },
    {
      "cell_type": "code",
      "source": [
        "def Examplefunction():\n",
        " return True\n",
        "\n",
        "print(Examplefunction())"
      ],
      "metadata": {
        "id": "pjiFdfeVVgLv"
      },
      "execution_count": null,
      "outputs": []
    },
    {
      "cell_type": "markdown",
      "source": [
        "Function (if else Statement)"
      ],
      "metadata": {
        "id": "xPIJ4DL-WVep"
      }
    },
    {
      "cell_type": "code",
      "source": [
        "def Examplefunction():\n",
        " return True\n",
        "\n",
        "if Examplefunction(): \n",
        "   print('YES')\n",
        "else:\n",
        "   print('NO')\n",
        "\n",
        "\n",
        "# Alternate\n",
        "\n",
        "def Examplefunction():\n",
        " return False\n",
        "\n",
        "if Examplefunction(): \n",
        "   print('YES')\n",
        "else:\n",
        "   print('NO')"
      ],
      "metadata": {
        "id": "S2G9JUN1WgFQ"
      },
      "execution_count": null,
      "outputs": []
    },
    {
      "cell_type": "markdown",
      "source": [
        "Try"
      ],
      "metadata": {
        "id": "eNiZmXBqXeOQ"
      }
    },
    {
      "cell_type": "code",
      "source": [
        "print(10>9)\n",
        "\n",
        "a=6\n",
        "b=7\n",
        "\n",
        "print(a==b)\n",
        "print(a!=a)"
      ],
      "metadata": {
        "id": "plJ5YoHVXhbn"
      },
      "execution_count": null,
      "outputs": []
    },
    {
      "cell_type": "markdown",
      "source": [
        "Math operations"
      ],
      "metadata": {
        "id": "BLCvEhKDYf2o"
      }
    },
    {
      "cell_type": "code",
      "source": [
        "print(1+1)\n",
        "print(1-1)\n",
        "print(1*1)\n",
        "print(1/1)\n",
        "\n",
        "print(10%5) # Remainder will print\n",
        "print(10//5) # Whole number will print\n",
        "print(10**2) # Multiply itself to the number inputed"
      ],
      "metadata": {
        "id": "6kanjhKXYbZB"
      },
      "execution_count": null,
      "outputs": []
    },
    {
      "cell_type": "markdown",
      "source": [
        "Bitwise Operators"
      ],
      "metadata": {
        "id": "8wAZntnrZf5h"
      }
    },
    {
      "cell_type": "code",
      "source": [
        "a=60\n",
        "b=13\n",
        "\n",
        "a>>1"
      ],
      "metadata": {
        "id": "bdZM5n8oaBpQ"
      },
      "execution_count": null,
      "outputs": []
    },
    {
      "cell_type": "markdown",
      "source": [
        "Assignment Operators"
      ],
      "metadata": {
        "id": "M7G8gRWChErB"
      }
    },
    {
      "cell_type": "code",
      "source": [
        "x=1\n",
        "\n",
        "x+=3 # Same as x=x+3\n",
        "\n",
        "print(x)\n",
        "\n",
        "x-=3 # Same as x=x-3\n",
        "\n",
        "print(x)\n",
        "\n",
        "x*=3 # Same as x=x*3\n",
        "\n",
        "print(x)\n",
        "\n",
        "x/=3 # Same as x=x/3\n",
        "\n",
        "print(x)\n",
        "\n",
        "x%=3 # Same as x=x%3\n",
        "\n",
        "print(x)"
      ],
      "metadata": {
        "id": "h1GLo4dfhG6I"
      },
      "execution_count": null,
      "outputs": []
    }
  ]
}