{
  "nbformat": 4,
  "nbformat_minor": 0,
  "metadata": {
    "colab": {
      "provenance": [],
      "authorship_tag": "ABX9TyM0PEmxQAApX3gERLFPFPZ4",
      "include_colab_link": true
    },
    "kernelspec": {
      "name": "python3",
      "display_name": "Python 3"
    },
    "language_info": {
      "name": "python"
    }
  },
  "cells": [
    {
      "cell_type": "markdown",
      "metadata": {
        "id": "view-in-github",
        "colab_type": "text"
      },
      "source": [
        "<a href=\"https://colab.research.google.com/github/NormilDiaz/OOP-58001/blob/main/Control_Structure.ipynb\" target=\"_parent\"><img src=\"https://colab.research.google.com/assets/colab-badge.svg\" alt=\"Open In Colab\"/></a>"
      ]
    },
    {
      "cell_type": "markdown",
      "source": [
        "Conditional Statement:"
      ],
      "metadata": {
        "id": "mrEfKLmpDqO7"
      }
    },
    {
      "cell_type": "markdown",
      "source": [
        "if statement"
      ],
      "metadata": {
        "id": "ycdxS_c0ESY6"
      }
    },
    {
      "cell_type": "code",
      "execution_count": null,
      "metadata": {
        "id": "Hs1ka99BDnvy"
      },
      "outputs": [],
      "source": [
        "a=12\n",
        "b=100\n",
        "\n",
        "if b>a:\n",
        "  print('b is greater than a')"
      ]
    },
    {
      "cell_type": "code",
      "source": [
        "x=input()\n",
        "y=input()\n",
        "\n",
        "if x>y:\n",
        "  print(x +'is greater than'+ y)"
      ],
      "metadata": {
        "id": "RC7aKm1-GYIi"
      },
      "execution_count": null,
      "outputs": []
    },
    {
      "cell_type": "markdown",
      "source": [
        "elif statement"
      ],
      "metadata": {
        "id": "pNL1f8hpEjUy"
      }
    },
    {
      "cell_type": "code",
      "source": [
        "a=12\n",
        "b=12\n",
        "\n",
        "if b>a:\n",
        "  print('b is greater than a')\n",
        "  \n",
        "elif a==b:\n",
        "  print('a and b are equal')\n"
      ],
      "metadata": {
        "id": "XJnk_raYEjAZ"
      },
      "execution_count": null,
      "outputs": []
    },
    {
      "cell_type": "markdown",
      "source": [
        "else statement"
      ],
      "metadata": {
        "id": "PcunHAHwFCqC"
      }
    },
    {
      "cell_type": "code",
      "source": [
        "a=200\n",
        "b=33\n",
        "\n",
        "if b>a:\n",
        "  print(\"b is greater than a\")\n",
        "\n",
        "elif a == b:\n",
        "  print(\"a and b are equal\")\n",
        "\n",
        "else:\n",
        "  print(\"a is greater than b\")"
      ],
      "metadata": {
        "id": "IgyqAcL3Fplp"
      },
      "execution_count": null,
      "outputs": []
    },
    {
      "cell_type": "markdown",
      "source": [
        "short hand statement"
      ],
      "metadata": {
        "id": "7g7FevRDF5NR"
      }
    },
    {
      "cell_type": "code",
      "source": [
        "if a>b: print(\"a is greater than b\")"
      ],
      "metadata": {
        "id": "NsXs1-_dF-BR"
      },
      "execution_count": null,
      "outputs": []
    },
    {
      "cell_type": "markdown",
      "source": [
        "nested if"
      ],
      "metadata": {
        "id": "MaUvYUk_GPjR"
      }
    },
    {
      "cell_type": "code",
      "source": [
        "x = 51\n",
        "\n",
        "if x > 10:\n",
        "  print(\"Above ten,\")\n",
        "  if x > 20:\n",
        "    print(\"and also above 20!\")\n",
        "    if x > 30:\n",
        "      print(\"and also above 30!\")\n",
        "      if x > 40:\n",
        "        print(\"and also above 40!\")\n",
        "        if x > 50:\n",
        "          print(\"and also above 50.\")\n",
        "          if x < 50:\n",
        "            print(\"below 50.\")\n",
        "          \n",
        "else:\n",
        "  print(\"but not above 10.\")"
      ],
      "metadata": {
        "id": "_kp89zPlI2Kg"
      },
      "execution_count": null,
      "outputs": []
    },
    {
      "cell_type": "markdown",
      "source": [
        "Example #1"
      ],
      "metadata": {
        "id": "80EKAXaZM3VX"
      }
    },
    {
      "cell_type": "code",
      "source": [
        "x=int(input())\n",
        "\n",
        "if x >= 18:\n",
        "  print('You are in the qualifying age')\n",
        "\n",
        "else:\n",
        "  print('You are not in the qualifying age')"
      ],
      "metadata": {
        "id": "VqfDWIwPM46u"
      },
      "execution_count": null,
      "outputs": []
    },
    {
      "cell_type": "markdown",
      "source": [
        "Example #2"
      ],
      "metadata": {
        "id": "hU_b7IOUNfSm"
      }
    },
    {
      "cell_type": "code",
      "source": [
        "x=int(input())\n",
        "\n",
        "if x<0:\n",
        "  print('The number is negative')\n",
        "\n",
        "elif x==0:\n",
        "  print('The number is equal to zero')\n",
        "\n",
        "elif x>0:\n",
        "  print('The number is positive')"
      ],
      "metadata": {
        "id": "N0jqtVgfNgwW"
      },
      "execution_count": null,
      "outputs": []
    },
    {
      "cell_type": "markdown",
      "source": [
        "Example #3"
      ],
      "metadata": {
        "id": "x0RMCcAoOP-e"
      }
    },
    {
      "cell_type": "code",
      "source": [
        "x=float(input())\n",
        "\n",
        "if x>=70:\n",
        "  print('Passed')\n",
        "\n",
        "elif x>=65:\n",
        "  \n",
        "  print('Remedial')\n",
        "\n",
        "elif x>=1:\n",
        "  print('Failed')\n",
        "\n",
        "elif x<=0:\n",
        "  print('Invalid input')"
      ],
      "metadata": {
        "id": "npuDJzwsOSMd"
      },
      "execution_count": null,
      "outputs": []
    }
  ]
}